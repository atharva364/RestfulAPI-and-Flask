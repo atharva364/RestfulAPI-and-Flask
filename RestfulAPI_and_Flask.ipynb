{
  "nbformat": 4,
  "nbformat_minor": 0,
  "metadata": {
    "colab": {
      "provenance": []
    },
    "kernelspec": {
      "name": "python3",
      "display_name": "Python 3"
    },
    "language_info": {
      "name": "python"
    }
  },
  "cells": [
    {
      "cell_type": "markdown",
      "source": [
        "# RestfulAPI and Flask"
      ],
      "metadata": {
        "id": "s5vBSiIpwgls"
      }
    },
    {
      "cell_type": "markdown",
      "source": [
        "# 1. How do you create a basic Flask application"
      ],
      "metadata": {
        "id": "pxuYo1oHwpyt"
      }
    },
    {
      "cell_type": "markdown",
      "source": [
        "# Step-by-Step Guide to Create a Basic Flask App\n",
        "#  1.Install Flask (if not already installed)"
      ],
      "metadata": {
        "id": "SdoqmFWMxAkF"
      }
    },
    {
      "cell_type": "code",
      "source": [
        "pip install Flask\n"
      ],
      "metadata": {
        "id": "TQMpamAtxfqV"
      },
      "execution_count": null,
      "outputs": []
    },
    {
      "cell_type": "markdown",
      "source": [
        "# 2. Create a Python file (e.g., app.py)"
      ],
      "metadata": {
        "id": "JbI0yJZGxk3s"
      }
    },
    {
      "cell_type": "code",
      "source": [
        "from flask import Flask\n",
        "\n",
        "app = Flask(__name__)\n",
        "\n",
        "@app.route('/')\n",
        "def home():\n",
        "    return 'Hello, Flask!'\n",
        "\n",
        "if __name__ == '__main__':\n",
        "    app.run(debug=True)\n"
      ],
      "metadata": {
        "id": "HOwLjiPMxwEv"
      },
      "execution_count": null,
      "outputs": []
    },
    {
      "cell_type": "markdown",
      "source": [
        "# How It Works\n",
        "# | Line                  | What It Does                            |\n",
        "# | --------------------- | --------------------------------------- |\n",
        "# | `Flask(__name__)`     | Creates the app instance                |\n",
        "# | `@app.route('/')`     | Maps the `'/'` URL to the `home()` view |\n",
        "# | `app.run(debug=True)` | Starts a local dev server               |\n"
      ],
      "metadata": {
        "id": "Xuz34xnex6Uy"
      }
    },
    {
      "cell_type": "markdown",
      "source": [
        "# Run the app"
      ],
      "metadata": {
        "id": "zp_FeGiryWnX"
      }
    },
    {
      "cell_type": "code",
      "source": [
        "python app.py\n"
      ],
      "metadata": {
        "id": "8iOpLdvaybZr"
      },
      "execution_count": null,
      "outputs": []
    },
    {
      "cell_type": "markdown",
      "source": [
        "# Then open your browser and go to:\n",
        "# http://127.0.0.1:5000/\n",
        "# You should see: Hello, Flask!"
      ],
      "metadata": {
        "id": "toC_WVo8yh8u"
      }
    },
    {
      "cell_type": "markdown",
      "source": [
        "# 2. How do you serve static files like images or CSS in Flask"
      ],
      "metadata": {
        "id": "gFGNo7MQypc-"
      }
    },
    {
      "cell_type": "markdown",
      "source": [
        "# In Flask, you serve static files like CSS, JavaScript, and images using the special /static URL path. Flask automatically looks for static files in a folder named **static** in your project directory.\n",
        "\n",
        "# Directory Structure\n",
        "# your_project/\n",
        "\n"
      ],
      "metadata": {
        "id": "sv4Kxnl2y7JN"
      }
    },
    {
      "cell_type": "code",
      "source": [
        "├── app.py\n",
        "├── static/\n",
        "│   ├── style.css\n",
        "│   ├── image.png\n"
      ],
      "metadata": {
        "id": "FXj3zmQEuyZ-"
      },
      "execution_count": null,
      "outputs": []
    },
    {
      "cell_type": "markdown",
      "source": [
        "# How to Use Static Files in Your HTML\n",
        "# Flask provides the url_for() function to safely reference static files in your HTML templates:"
      ],
      "metadata": {
        "id": "lPxz163jzgxe"
      }
    },
    {
      "cell_type": "code",
      "source": [
        "<link rel=\"stylesheet\" href=\"{{ url_for('static', filename='style.css') }}\">\n",
        "<img src=\"{{ url_for('static', filename='image.png') }}\">\n"
      ],
      "metadata": {
        "id": "hSG1DnkuzpGv"
      },
      "execution_count": null,
      "outputs": []
    },
    {
      "cell_type": "markdown",
      "source": [
        "# Example Using Flask + Static File\n",
        "# 1.app.py"
      ],
      "metadata": {
        "id": "DJWkH3Hyzu2x"
      }
    },
    {
      "cell_type": "code",
      "source": [
        "from flask import Flask, render_template\n",
        "\n",
        "app = Flask(__name__)\n",
        "\n",
        "@app.route('/')\n",
        "def home():\n",
        "    return render_template('index.html')\n"
      ],
      "metadata": {
        "id": "S-gLuGTPz3hm"
      },
      "execution_count": null,
      "outputs": []
    },
    {
      "cell_type": "markdown",
      "source": [
        "# 2.templates/index.html"
      ],
      "metadata": {
        "id": "tVdJOVgH0Hih"
      }
    },
    {
      "cell_type": "code",
      "source": [
        "<!doctype html>\n",
        "<html>\n",
        "<head>\n",
        "    <link rel=\"stylesheet\" href=\"{{ url_for('static', filename='style.css') }}\">\n",
        "</head>\n",
        "<body>\n",
        "    <h1>Hello Flask</h1>\n",
        "    <img src=\"{{ url_for('static', filename='image.png') }}\" alt=\"Example Image\">\n",
        "</body>\n",
        "</html>\n"
      ],
      "metadata": {
        "id": "2ItWqCen0JJm"
      },
      "execution_count": null,
      "outputs": []
    },
    {
      "cell_type": "markdown",
      "source": [
        "# How It Works\n",
        "| Folder        | Purpose                         |\n",
        "| ------------- | ------------------------------- |\n",
        "| `static/`     | Where you store CSS, JS, images |\n",
        "| `url_for()`   | Generates the correct URL path  |\n",
        "| `/static/...` | Default URL path to serve those |\n"
      ],
      "metadata": {
        "id": "Icv8-bcr0SIP"
      }
    },
    {
      "cell_type": "markdown",
      "source": [
        "# 3.How do you define different routes with different HTTP methods in Flask\n"
      ],
      "metadata": {
        "id": "IED-TLAl0rrX"
      }
    },
    {
      "cell_type": "markdown",
      "source": [
        "# In Flask, you can define routes with different HTTP methods using the @app.route() decorator and specifying the methods parameter. Here's how you do it:\n",
        "\n",
        "# Basic Syntax"
      ],
      "metadata": {
        "id": "zcvfKKgd1DDe"
      }
    },
    {
      "cell_type": "code",
      "source": [
        "from flask import Flask, request\n",
        "\n",
        "app = Flask(__name__)\n",
        "\n",
        "@app.route('/example', methods=['GET'])\n",
        "def example_get():\n",
        "    return 'This is a GET request'\n",
        "\n",
        "@app.route('/example', methods=['POST'])\n",
        "def example_post():\n",
        "    return 'This is a POST request'\n"
      ],
      "metadata": {
        "id": "ZKc78oJd1LEX"
      },
      "execution_count": null,
      "outputs": []
    },
    {
      "cell_type": "markdown",
      "source": [
        "# In this example, both routes use the same URL (/example) but handle different HTTP methods: one handles GET requests and the other handles POST requests."
      ],
      "metadata": {
        "id": "hC-UT2qM1VhW"
      }
    },
    {
      "cell_type": "markdown",
      "source": [
        "# Alternatively: One route with conditional logic\n",
        "\n",
        "# You can also define one route and use request.method to branch based on the HTTP method:"
      ],
      "metadata": {
        "id": "0x7IsQKb7Nep"
      }
    },
    {
      "cell_type": "code",
      "source": [
        "@app.route('/example', methods=['GET', 'POST'])\n",
        "def example():\n",
        "    if request.method == 'GET':\n",
        "        return 'This is a GET request'\n",
        "    elif request.method == 'POST':\n",
        "        return 'This is a POST request'\n"
      ],
      "metadata": {
        "id": "lvON6zEo7lMc"
      },
      "execution_count": null,
      "outputs": []
    },
    {
      "cell_type": "markdown",
      "source": [
        "# Other HTTP Methods\n",
        "# You can also use other methods like PUT, DELETE, PATCH, etc."
      ],
      "metadata": {
        "id": "hbNLT3ca7raS"
      }
    },
    {
      "cell_type": "code",
      "source": [
        "@app.route('/resource', methods=['PUT'])\n",
        "def update_resource():\n",
        "    return 'Resource updated'\n",
        "\n",
        "@app.route('/resource', methods=['DELETE'])\n",
        "def delete_resource():\n",
        "    return 'Resource deleted'\n"
      ],
      "metadata": {
        "id": "DoqR9Vhj70Fu"
      },
      "execution_count": null,
      "outputs": []
    },
    {
      "cell_type": "markdown",
      "source": [
        "# 4. How do you render HTML templates in Flask"
      ],
      "metadata": {
        "id": "ykDy6c6U77nK"
      }
    },
    {
      "cell_type": "markdown",
      "source": [
        "# In Flask, you render HTML templates using the render_template() function from the flask module. Templates are typically stored in a templates/ directory within your project.\n",
        "\n",
        "# Basic Example\n",
        "\n",
        "# 1. Project Structure\n",
        "\n",
        "# your_project/\n"
      ],
      "metadata": {
        "id": "O5wC8vCE8aBt"
      }
    },
    {
      "cell_type": "code",
      "source": [
        "│\n",
        "├── app.py\n",
        "└── templates/\n",
        "└── index.html\n"
      ],
      "metadata": {
        "id": "zrXf4DvjvD3k"
      },
      "execution_count": null,
      "outputs": []
    },
    {
      "cell_type": "markdown",
      "source": [
        "# 2.index.html (in templates/ folder)"
      ],
      "metadata": {
        "id": "kIWpq1aB87xo"
      }
    },
    {
      "cell_type": "code",
      "source": [
        "<!DOCTYPE html>\n",
        "<html>\n",
        "<head>\n",
        "    <title>Flask App</title>\n",
        "</head>\n",
        "<body>\n",
        "    <h1>Hello, {{ name }}!</h1>\n",
        "</body>\n",
        "</html>\n"
      ],
      "metadata": {
        "id": "y3OVpIAn8ohz"
      },
      "execution_count": null,
      "outputs": []
    },
    {
      "cell_type": "markdown",
      "source": [
        "# 3.app.py"
      ],
      "metadata": {
        "id": "4V4ZeFkK9JaU"
      }
    },
    {
      "cell_type": "code",
      "source": [
        "from flask import Flask, render_template\n",
        "\n",
        "app = Flask(__name__)\n",
        "\n",
        "@app.route('/')\n",
        "def home():\n",
        "    return render_template('index.html', name='World')\n"
      ],
      "metadata": {
        "id": "T6mELUaD9N__"
      },
      "execution_count": 1,
      "outputs": []
    },
    {
      "cell_type": "markdown",
      "source": [
        "# 5. How can you generate URLs for routes in Flask using url_for"
      ],
      "metadata": {
        "id": "iGxZ0fxJ8Xat"
      }
    },
    {
      "cell_type": "markdown",
      "source": [
        "# In Flask, you use the url_for() function to generate URLs for your routes by referring to the function name (not the URL path itself). This makes your app more maintainable and flexible—if you change a route URL, you only have to update it in one place."
      ],
      "metadata": {
        "id": "_jG1DN5k9uPk"
      }
    },
    {
      "cell_type": "markdown",
      "source": [
        "# Basic Usage"
      ],
      "metadata": {
        "id": "LLLrTT_X95OE"
      }
    },
    {
      "cell_type": "code",
      "source": [
        "from flask import Flask, url_for\n",
        "\n",
        "app = Flask(__name__)\n",
        "\n",
        "@app.route('/profile/<username>')\n",
        "def profile(username):\n",
        "    return f\"User: {username}\"\n",
        "\n",
        "with app.test_request_context():\n",
        "    print(url_for('profile', username='john'))  # Output: /profile/john\n"
      ],
      "metadata": {
        "id": "eg783Qsd-Bvc"
      },
      "execution_count": null,
      "outputs": []
    },
    {
      "cell_type": "markdown",
      "source": [
        "# Why Use url_for()?\n",
        "# i)Avoids hardcoding URLs.\n",
        "# ii)Automatically handles dynamic parts of URLs and query strings.\n",
        "# iii)Makes refactoring safer."
      ],
      "metadata": {
        "id": "cjKrK19g-GNm"
      }
    },
    {
      "cell_type": "markdown",
      "source": [
        "# Example with a Template"
      ],
      "metadata": {
        "id": "hWHEDvWn-j5M"
      }
    },
    {
      "cell_type": "code",
      "source": [
        "@app.route('/')\n",
        "def home():\n",
        "    return render_template('index.html')\n",
        "\n",
        "@app.route('/about')\n",
        "def about():\n",
        "    return 'About Page'\n"
      ],
      "metadata": {
        "id": "Ot2BpaoI-nf9"
      },
      "execution_count": null,
      "outputs": []
    },
    {
      "cell_type": "markdown",
      "source": [
        "# index.html"
      ],
      "metadata": {
        "id": "t1orrVg1-tvi"
      }
    },
    {
      "cell_type": "code",
      "source": [
        "<a href=\"{{ url_for('about') }}\">Go to About Page</a>\n"
      ],
      "metadata": {
        "id": "JN74t4Uf-sIz"
      },
      "execution_count": null,
      "outputs": []
    },
    {
      "cell_type": "markdown",
      "source": [
        "# This generates:"
      ],
      "metadata": {
        "id": "LUY-hDkc-0II"
      }
    },
    {
      "cell_type": "code",
      "source": [
        "<a href=\"/about\">Go to About Page</a>\n"
      ],
      "metadata": {
        "id": "Oz4f8iuI-1wZ"
      },
      "execution_count": null,
      "outputs": []
    },
    {
      "cell_type": "markdown",
      "source": [
        "# Adding Query Parameters"
      ],
      "metadata": {
        "id": "qpbztI5M-7zy"
      }
    },
    {
      "cell_type": "code",
      "source": [
        "url_for('profile', username='john', page=2)\n",
        "# Output: /profile/john?page=2\n"
      ],
      "metadata": {
        "id": "0Qly6CbU--mi"
      },
      "execution_count": null,
      "outputs": []
    },
    {
      "cell_type": "markdown",
      "source": [
        "# 6. How do you handle forms in Flask"
      ],
      "metadata": {
        "id": "yxbzBOyW_FNy"
      }
    },
    {
      "cell_type": "markdown",
      "source": [
        "# Handling forms in Flask involves a few key steps:\n",
        "# 1.Create the HTML Form\n",
        "# Place this in a template file (e.g., templates/form.html):"
      ],
      "metadata": {
        "id": "TLha4tel_ck9"
      }
    },
    {
      "cell_type": "code",
      "source": [
        "<!DOCTYPE html>\n",
        "<html>\n",
        "<head><title>Form Example</title></head>\n",
        "<body>\n",
        "    <form method=\"POST\" action=\"{{ url_for('submit') }}\">\n",
        "        <label for=\"name\">Name:</label>\n",
        "        <input type=\"text\" name=\"name\" id=\"name\">\n",
        "        <input type=\"submit\" value=\"Submit\">\n",
        "    </form>\n",
        "</body>\n",
        "</html>\n"
      ],
      "metadata": {
        "id": "XYH72UL1_rm6"
      },
      "execution_count": null,
      "outputs": []
    },
    {
      "cell_type": "markdown",
      "source": [
        "# 2. Set Up the Flask Route to Handle It"
      ],
      "metadata": {
        "id": "tpnnurV8_yrU"
      }
    },
    {
      "cell_type": "code",
      "source": [
        "from flask import Flask, render_template, request\n",
        "\n",
        "app = Flask(__name__)\n",
        "\n",
        "@app.route('/')\n",
        "def index():\n",
        "    return render_template('form.html')\n",
        "\n",
        "@app.route('/submit', methods=['POST'])\n",
        "def submit():\n",
        "    name = request.form['name']  # Get form data by input name\n",
        "    return f'Hello, {name}!'\n"
      ],
      "metadata": {
        "id": "AIIW1Bx6_3Mc"
      },
      "execution_count": null,
      "outputs": []
    },
    {
      "cell_type": "markdown",
      "source": [
        "# 3. CSRF Protection (Optional but Recommended)"
      ],
      "metadata": {
        "id": "WQTS5S-u_7CX"
      }
    },
    {
      "cell_type": "code",
      "source": [
        "pip install Flask-WTF\n"
      ],
      "metadata": {
        "id": "LLOxzPJQAGyY"
      },
      "execution_count": null,
      "outputs": []
    },
    {
      "cell_type": "markdown",
      "source": [
        "# Bonus: Handling GET and POST in One Route"
      ],
      "metadata": {
        "id": "HY4lN1hHAKHr"
      }
    },
    {
      "cell_type": "code",
      "source": [
        "@app.route('/form', methods=['GET', 'POST'])\n",
        "def form():\n",
        "    if request.method == 'POST':\n",
        "        name = request.form['name']\n",
        "        return f'Submitted: {name}'\n",
        "    return render_template('form.html')\n"
      ],
      "metadata": {
        "id": "DwneqWigAPbg"
      },
      "execution_count": null,
      "outputs": []
    },
    {
      "cell_type": "markdown",
      "source": [
        "# 7. How can you validate form data in Flask"
      ],
      "metadata": {
        "id": "aiWzP9vbAWG9"
      }
    },
    {
      "cell_type": "markdown",
      "source": [
        "# In Flask, you can validate form data in two main ways:\n",
        "\n",
        "# 1.  Manual Validation with request.form"
      ],
      "metadata": {
        "id": "mGZZttx9AqGH"
      }
    },
    {
      "cell_type": "code",
      "source": [
        "from flask import Flask, request, render_template, redirect, flash\n",
        "\n",
        "app = Flask(__name__)\n",
        "app.secret_key = 'your_secret_key'  # Needed for flashing messages\n",
        "\n",
        "@app.route('/form', methods=['GET', 'POST'])\n",
        "def form():\n",
        "    if request.method == 'POST':\n",
        "        name = request.form.get('name')\n",
        "        if not name:\n",
        "            flash('Name is required!')\n",
        "            return redirect('/form')\n",
        "        return f'Hello, {name}!'\n",
        "    return render_template('form.html')\n"
      ],
      "metadata": {
        "id": "JkFVAxqBAz7I"
      },
      "execution_count": null,
      "outputs": []
    },
    {
      "cell_type": "markdown",
      "source": [
        "# form.html"
      ],
      "metadata": {
        "id": "0pwJDEQaA36-"
      }
    },
    {
      "cell_type": "code",
      "source": [
        "<form method=\"POST\">\n",
        "    <input type=\"text\" name=\"name\" placeholder=\"Your name\">\n",
        "    <input type=\"submit\" value=\"Submit\">\n",
        "</form>\n",
        "\n",
        "{% with messages = get_flashed_messages() %}\n",
        "  {% if messages %}\n",
        "    <ul>\n",
        "      {% for message in messages %}\n",
        "        <li style=\"color:red;\">{{ message }}</li>\n",
        "      {% endfor %}\n",
        "    </ul>\n",
        "  {% endif %}\n",
        "{% endwith %}\n"
      ],
      "metadata": {
        "id": "WAXeJDt-A5LK"
      },
      "execution_count": null,
      "outputs": []
    },
    {
      "cell_type": "markdown",
      "source": [
        "# 2. Validation with Flask-WTF\n",
        "\n",
        "# Install Flask-WTF:"
      ],
      "metadata": {
        "id": "yeaHagScBNiG"
      }
    },
    {
      "cell_type": "code",
      "source": [
        "pip install flask-wtf\n"
      ],
      "metadata": {
        "id": "9EYtMcHBBWBy"
      },
      "execution_count": null,
      "outputs": []
    },
    {
      "cell_type": "markdown",
      "source": [
        "# Configuration:"
      ],
      "metadata": {
        "id": "L3srpRATBZYD"
      }
    },
    {
      "cell_type": "code",
      "source": [
        "app.config['SECRET_KEY'] = 'your_secret_key'\n"
      ],
      "metadata": {
        "id": "Tv81TTcuBdaf"
      },
      "execution_count": null,
      "outputs": []
    },
    {
      "cell_type": "markdown",
      "source": [
        "# Form Definition:"
      ],
      "metadata": {
        "id": "EYIEZl27Bj0l"
      }
    },
    {
      "cell_type": "code",
      "source": [
        "from flask_wtf import FlaskForm\n",
        "from wtforms import StringField, SubmitField\n",
        "from wtforms.validators import DataRequired\n",
        "\n",
        "class NameForm(FlaskForm):\n",
        "    name = StringField('Name', validators=[DataRequired()])\n",
        "    submit = SubmitField('Submit')\n"
      ],
      "metadata": {
        "id": "5ge6i2ezBnon"
      },
      "execution_count": null,
      "outputs": []
    },
    {
      "cell_type": "markdown",
      "source": [
        "# Route + Validation:"
      ],
      "metadata": {
        "id": "YTAJFT3ABror"
      }
    },
    {
      "cell_type": "code",
      "source": [
        "from flask import render_template\n",
        "\n",
        "@app.route('/form', methods=['GET', 'POST'])\n",
        "def form():\n",
        "    form = NameForm()\n",
        "    if form.validate_on_submit():\n",
        "        return f'Hello, {form.name.data}!'\n",
        "    return render_template('form_wtf.html', form=form)\n"
      ],
      "metadata": {
        "id": "QkraI0CnBvGX"
      },
      "execution_count": null,
      "outputs": []
    },
    {
      "cell_type": "markdown",
      "source": [
        "# Template (form_wtf.html)"
      ],
      "metadata": {
        "id": "Fp4J7vUdBycN"
      }
    },
    {
      "cell_type": "code",
      "source": [
        "<form method=\"POST\">\n",
        "    {{ form.csrf_token }}\n",
        "    {{ form.name.label }} {{ form.name(size=20) }}\n",
        "    {{ form.submit() }}\n",
        "    {% for error in form.name.errors %}\n",
        "        <p style=\"color:red;\">{{ error }}</p>\n",
        "    {% endfor %}\n",
        "</form>\n"
      ],
      "metadata": {
        "id": "YDYSd9RAB16v"
      },
      "execution_count": null,
      "outputs": []
    },
    {
      "cell_type": "markdown",
      "source": [
        "# 8.How do you manage sessions in Flask?"
      ],
      "metadata": {
        "id": "qLyHUBmVB6Xe"
      }
    },
    {
      "cell_type": "markdown",
      "source": [
        "# In Flask, sessions let you store data across multiple requests for a specific user (like login state, preferences, etc.). Flask uses a secure cookie to store session data on the client side, which is cryptographically signed to prevent tampering."
      ],
      "metadata": {
        "id": "KbOnGQLcr3eT"
      }
    },
    {
      "cell_type": "markdown",
      "source": [
        "# 1.Setting Up Sessions"
      ],
      "metadata": {
        "id": "7hyc4Fwjr9xm"
      }
    },
    {
      "cell_type": "code",
      "source": [
        "from flask import Flask, session, redirect, url_for, request\n",
        "\n",
        "app = Flask(__name__)\n",
        "app.secret_key = 'your_secret_key'  # Required for session management\n"
      ],
      "metadata": {
        "id": "rdE_kERisFro"
      },
      "execution_count": null,
      "outputs": []
    },
    {
      "cell_type": "markdown",
      "source": [
        "# 2.Storing Data in the Session"
      ],
      "metadata": {
        "id": "xplRTygPsIyK"
      }
    },
    {
      "cell_type": "code",
      "source": [
        "@app.route('/login', methods=['POST'])\n",
        "def login():\n",
        "    username = request.form['username']\n",
        "    session['user'] = username\n",
        "    return redirect(url_for('profile'))\n"
      ],
      "metadata": {
        "id": "2igdAFS1sLq5"
      },
      "execution_count": null,
      "outputs": []
    },
    {
      "cell_type": "markdown",
      "source": [
        "# 3.Accessing Session Data"
      ],
      "metadata": {
        "id": "29Xx3lH6sOqs"
      }
    },
    {
      "cell_type": "code",
      "source": [
        "@app.route('/profile')\n",
        "def profile():\n",
        "    if 'user' in session:\n",
        "        return f\"Logged in as {session['user']}\"\n",
        "    return 'You are not logged in'\n"
      ],
      "metadata": {
        "id": "ux2kdMJNsR7R"
      },
      "execution_count": null,
      "outputs": []
    },
    {
      "cell_type": "markdown",
      "source": [
        "# 4.Removing Data from Session"
      ],
      "metadata": {
        "id": "JQATRh-FsVfk"
      }
    },
    {
      "cell_type": "code",
      "source": [
        "@app.route('/logout')\n",
        "def logout():\n",
        "    session.pop('user', None)  # Remove user key if it exists\n",
        "    return redirect(url_for('profile'))\n"
      ],
      "metadata": {
        "id": "z_e6P7HzsYeS"
      },
      "execution_count": null,
      "outputs": []
    },
    {
      "cell_type": "markdown",
      "source": [
        "# 9.How do you redirect to a different route in Flask"
      ],
      "metadata": {
        "id": "nveZUllvsiNb"
      }
    },
    {
      "cell_type": "markdown",
      "source": [
        "# In Flask, you redirect to a different route using the redirect() function, typically in combination with url_for() to dynamically generate the target URL."
      ],
      "metadata": {
        "id": "avobNA-1sqFF"
      }
    },
    {
      "cell_type": "markdown",
      "source": [
        "# Basic Redirect Example"
      ],
      "metadata": {
        "id": "wHTXDFBosuE5"
      }
    },
    {
      "cell_type": "code",
      "source": [
        "from flask import Flask, redirect, url_for\n",
        "\n",
        "app = Flask(__name__)\n",
        "\n",
        "@app.route('/')\n",
        "def home():\n",
        "    return 'Home Page'\n",
        "\n",
        "@app.route('/go-to-home')\n",
        "def go_to_home():\n",
        "    return redirect(url_for('home'))\n"
      ],
      "metadata": {
        "id": "s-2VzT1Qsx1h"
      },
      "execution_count": null,
      "outputs": []
    },
    {
      "cell_type": "markdown",
      "source": [
        "# Redirect with Parameters"
      ],
      "metadata": {
        "id": "v24X2Stjs0t0"
      }
    },
    {
      "cell_type": "code",
      "source": [
        "@app.route('/user/<username>')\n",
        "def user_profile(username):\n",
        "    return f'Profile: {username}'\n",
        "\n",
        "@app.route('/login')\n",
        "def login():\n",
        "    return redirect(url_for('user_profile', username='john'))\n"
      ],
      "metadata": {
        "id": "zIvH2LKms3Jr"
      },
      "execution_count": null,
      "outputs": []
    },
    {
      "cell_type": "markdown",
      "source": [
        "# 10. How do you handle errors in Flask (e.g., 404)?"
      ],
      "metadata": {
        "id": "ytPEfSDPs_E3"
      }
    },
    {
      "cell_type": "markdown",
      "source": [
        "# In Flask, you handle errors like 404 Not Found or 500 Internal Server Error by defining custom error handlers using the @app.errorhandler() decorator."
      ],
      "metadata": {
        "id": "o5pawfN9tJzi"
      }
    },
    {
      "cell_type": "markdown",
      "source": [
        "# Basic 404 Error Handler"
      ],
      "metadata": {
        "id": "sbTHJby8tNjg"
      }
    },
    {
      "cell_type": "code",
      "source": [
        "from flask import Flask, render_template\n",
        "\n",
        "app = Flask(__name__)\n",
        "\n",
        "@app.errorhandler(404)\n",
        "def page_not_found(e):\n",
        "    return render_template('404.html'), 404\n"
      ],
      "metadata": {
        "id": "Mn67Z4oEtQHG"
      },
      "execution_count": null,
      "outputs": []
    },
    {
      "cell_type": "markdown",
      "source": [
        "# Example for 500 Error (Server Error)"
      ],
      "metadata": {
        "id": "Aw9NEMz0tTY9"
      }
    },
    {
      "cell_type": "code",
      "source": [
        "@app.errorhandler(500)\n",
        "def internal_error(e):\n",
        "    return render_template('500.html'), 500\n"
      ],
      "metadata": {
        "id": "uNFjPNZ1tX7X"
      },
      "execution_count": null,
      "outputs": []
    },
    {
      "cell_type": "markdown",
      "source": [
        "# General Pattern"
      ],
      "metadata": {
        "id": "oKfwRhLEtagY"
      }
    },
    {
      "cell_type": "code",
      "source": [
        "@app.errorhandler(ErrorCode)\n",
        "def handler_function(error):\n",
        "    # return a custom response and status code\n"
      ],
      "metadata": {
        "id": "HiPXcEAvteiF"
      },
      "execution_count": null,
      "outputs": []
    },
    {
      "cell_type": "markdown",
      "source": [
        "# Example Template (templates/404.html)"
      ],
      "metadata": {
        "id": "rGHeP4CctiMJ"
      }
    },
    {
      "cell_type": "code",
      "source": [
        "<!DOCTYPE html>\n",
        "<html>\n",
        "<head><title>Page Not Found</title></head>\n",
        "<body>\n",
        "    <h1>404 - Page Not Found</h1>\n",
        "    <p>Sorry, the page you're looking for doesn't exist.</p>\n",
        "</body>\n",
        "</html>\n"
      ],
      "metadata": {
        "id": "NIFW9f8ptkhw"
      },
      "execution_count": null,
      "outputs": []
    },
    {
      "cell_type": "markdown",
      "source": [
        "# 11.How do you structure a Flask app using Blueprints?"
      ],
      "metadata": {
        "id": "J4u3k9rktp14"
      }
    },
    {
      "cell_type": "markdown",
      "source": [
        "# Using Blueprints in Flask is a great way to organize a larger application into modular components (e.g., separating routes, forms, models, etc. by feature or section).\n",
        "\n",
        "# What Are Blueprints?\n",
        "\n",
        "# Blueprints let you define routes, templates, static files, and more in separate files or folders, and then register them in the main app. Think of them as \"mini-apps\" that plug into your main Flask app.\n",
        "\n",
        "\n"
      ],
      "metadata": {
        "id": "_Y2v6yxit1jT"
      }
    },
    {
      "cell_type": "markdown",
      "source": [
        "# Directory Structure Example"
      ],
      "metadata": {
        "id": "TQFvEoRsuBkE"
      }
    },
    {
      "cell_type": "code",
      "source": [
        "myapp/\n",
        "├── app.py\n",
        "├── auth/\n",
        "│   ├── __init__.py\n",
        "│   └── routes.py\n",
        "├── blog/\n",
        "│   ├── __init__.py\n",
        "│   └── routes.py\n",
        "└── templates/\n"
      ],
      "metadata": {
        "id": "0q8AjOgOuG9I"
      },
      "execution_count": null,
      "outputs": []
    },
    {
      "cell_type": "markdown",
      "source": [
        "# Step-by-Step Blueprint Setup\n",
        "\n",
        "# 1.Create a Blueprint in a Module (e.g., auth/routes.py)"
      ],
      "metadata": {
        "id": "w_F6UQquuKnL"
      }
    },
    {
      "cell_type": "code",
      "source": [
        "from flask import Blueprint, render_template\n",
        "\n",
        "auth_bp = Blueprint('auth', __name__, url_prefix='/auth')\n",
        "\n",
        "@auth_bp.route('/login')\n",
        "def login():\n",
        "    return render_template('login.html')\n"
      ],
      "metadata": {
        "id": "tLQNOsKFuRJ2"
      },
      "execution_count": null,
      "outputs": []
    },
    {
      "cell_type": "markdown",
      "source": [
        "# 2.Initialize the Blueprint (auth/__init__.py)"
      ],
      "metadata": {
        "id": "KtagHOuWuUwv"
      }
    },
    {
      "cell_type": "code",
      "source": [
        "from .routes import auth_bp\n"
      ],
      "metadata": {
        "id": "p63loOsYuXUd"
      },
      "execution_count": null,
      "outputs": []
    },
    {
      "cell_type": "markdown",
      "source": [
        "# 3.Register Blueprint in Main App (app.py)"
      ],
      "metadata": {
        "id": "t1bbyzhGuadq"
      }
    },
    {
      "cell_type": "code",
      "source": [
        "from flask import Flask\n",
        "from auth.routes import auth_bp  # Import the blueprint\n",
        "\n",
        "app = Flask(__name__)\n",
        "app.register_blueprint(auth_bp)\n",
        "\n",
        "@app.route('/')\n",
        "def home():\n",
        "    return 'Home Page'\n"
      ],
      "metadata": {
        "id": "n8u_liA-uc9r"
      },
      "execution_count": null,
      "outputs": []
    },
    {
      "cell_type": "markdown",
      "source": [
        "# 4.Create Template (templates/login.html)"
      ],
      "metadata": {
        "id": "_rmrUqAtugEu"
      }
    },
    {
      "cell_type": "code",
      "source": [
        "<h1>Login Page</h1>\n",
        "<form method=\"post\">\n",
        "    <!-- login form here -->\n",
        "</form>\n"
      ],
      "metadata": {
        "id": "Kzg2Vfs9uked"
      },
      "execution_count": null,
      "outputs": []
    },
    {
      "cell_type": "markdown",
      "source": [
        "# 12. How do you define a custom Jinja filter in Flask?"
      ],
      "metadata": {
        "id": "dh7MgOdvvhzt"
      }
    },
    {
      "cell_type": "markdown",
      "source": [
        "# In Flask, you can define a custom Jinja filter by creating a Python function and registering it with the Jinja environment using either:\n",
        "\n",
        "# @app.template_filter() decorator\n",
        "\n",
        "# or app.jinja_env.filters['filter_name'] = function"
      ],
      "metadata": {
        "id": "Clg2dv2Ov670"
      }
    },
    {
      "cell_type": "markdown",
      "source": [
        "# Example: Custom Filter to Reverse a String\n",
        "\n",
        "# 1.Define and Register the Filter"
      ],
      "metadata": {
        "id": "f4bI60HCwH_I"
      }
    },
    {
      "cell_type": "code",
      "source": [
        "from flask import Flask\n",
        "\n",
        "app = Flask(__name__)\n",
        "\n",
        "@app.template_filter('reverse')\n",
        "def reverse_filter(s):\n",
        "    return s[::-1]\n"
      ],
      "metadata": {
        "id": "EAky2WvgwNV5"
      },
      "execution_count": null,
      "outputs": []
    },
    {
      "cell_type": "markdown",
      "source": [
        "# Or without the decorator:"
      ],
      "metadata": {
        "id": "u5kMpuVvwS1r"
      }
    },
    {
      "cell_type": "code",
      "source": [
        "def reverse_filter(s):\n",
        "    return s[::-1]\n",
        "\n",
        "app.jinja_env.filters['reverse'] = reverse_filter\n"
      ],
      "metadata": {
        "id": "WTgtPv0uwU3K"
      },
      "execution_count": null,
      "outputs": []
    },
    {
      "cell_type": "markdown",
      "source": [
        "# 2.Use It in a Jinja Template\n",
        "\n",
        "# templates/example.html"
      ],
      "metadata": {
        "id": "XJmJJbZCwZDI"
      }
    },
    {
      "cell_type": "code",
      "source": [
        "<p>Original: {{ 'hello' }}</p>\n",
        "<p>Reversed: {{ 'hello' | reverse }}</p>\n"
      ],
      "metadata": {
        "id": "QaDF-DoBwggL"
      },
      "execution_count": null,
      "outputs": []
    },
    {
      "cell_type": "markdown",
      "source": [
        "# Example: Capitalize First Letter of Each Word"
      ],
      "metadata": {
        "id": "GkjCfve6wnDr"
      }
    },
    {
      "cell_type": "code",
      "source": [
        "@app.template_filter('titlecase')\n",
        "def titlecase(s):\n",
        "    return s.title()\n"
      ],
      "metadata": {
        "id": "6LhzOZxSwrNU"
      },
      "execution_count": null,
      "outputs": []
    },
    {
      "cell_type": "markdown",
      "source": [
        "# Then use it in a template:"
      ],
      "metadata": {
        "id": "gjdbTuYqwuXG"
      }
    },
    {
      "cell_type": "code",
      "source": [
        "<p>{{ \"flask custom filter\" | titlecase }}</p>\n"
      ],
      "metadata": {
        "id": "tdb14c_www-I"
      },
      "execution_count": null,
      "outputs": []
    },
    {
      "cell_type": "markdown",
      "source": [
        "# Filters with Arguments\n",
        "\n",
        "# If you want your filter to accept extra arguments:\n",
        "\n"
      ],
      "metadata": {
        "id": "VrTCl4PCw0_z"
      }
    },
    {
      "cell_type": "code",
      "source": [
        "@app.template_filter('truncate')\n",
        "def truncate(s, length=5):\n",
        "    return s[:length] + ('...' if len(s) > length else '')\n"
      ],
      "metadata": {
        "id": "ejATv3wQw9u7"
      },
      "execution_count": null,
      "outputs": []
    },
    {
      "cell_type": "markdown",
      "source": [
        "# Use in template:"
      ],
      "metadata": {
        "id": "AQ1yGi6MxA0k"
      }
    },
    {
      "cell_type": "code",
      "source": [
        "<p>{{ \"Flask is awesome\" | truncate(10) }}</p>\n"
      ],
      "metadata": {
        "id": "xxlScQjJxD3C"
      },
      "execution_count": null,
      "outputs": []
    },
    {
      "cell_type": "markdown",
      "source": [
        "# 13. How can you redirect with query parameters in Flask?"
      ],
      "metadata": {
        "id": "CM3uuOyfxIS8"
      }
    },
    {
      "cell_type": "markdown",
      "source": [
        "# To redirect with query parameters in Flask, you use the combination of:\n",
        "\n",
        "# redirect() – to perform the redirect\n",
        "# url_for() – to build the target URL, including query parameters\n",
        "\n"
      ],
      "metadata": {
        "id": "pLlvjbGVxRAh"
      }
    },
    {
      "cell_type": "markdown",
      "source": [
        "# Example: Redirect with Query Parameters"
      ],
      "metadata": {
        "id": "H0IgRdCWxeQb"
      }
    },
    {
      "cell_type": "code",
      "source": [
        "from flask import Flask, redirect, url_for, request\n",
        "\n",
        "app = Flask(__name__)\n",
        "\n",
        "@app.route('/start')\n",
        "def start():\n",
        "    return redirect(url_for('search', q='flask', page=2))\n",
        "\n",
        "@app.route('/search')\n",
        "def search():\n",
        "    query = request.args.get('q')\n",
        "    page = request.args.get('page', type=int)\n",
        "    return f'Searching for \"{query}\", page {page}'\n"
      ],
      "metadata": {
        "id": "ce3Z_AHoxgS0"
      },
      "execution_count": null,
      "outputs": []
    },
    {
      "cell_type": "markdown",
      "source": [
        "# Dynamic Query Params"
      ],
      "metadata": {
        "id": "_eZRkt1UxjSM"
      }
    },
    {
      "cell_type": "code",
      "source": [
        "query = 'blueprints'\n",
        "page = 1\n",
        "return redirect(url_for('search', q=query, page=page))\n"
      ],
      "metadata": {
        "id": "0Lo9zZRaxmCV"
      },
      "execution_count": null,
      "outputs": []
    },
    {
      "cell_type": "markdown",
      "source": [
        "# 14.How do you return JSON responses in Flask?"
      ],
      "metadata": {
        "id": "PprqCfXfxx1c"
      }
    },
    {
      "cell_type": "markdown",
      "source": [
        "# In Flask, returning a JSON response is simple and clean using:\n",
        "\n",
        "# 1. flask.jsonify() – Preferred method"
      ],
      "metadata": {
        "id": "IDqOZCyyx79K"
      }
    },
    {
      "cell_type": "code",
      "source": [
        "from flask import Flask, jsonify\n",
        "\n",
        "app = Flask(__name__)\n",
        "\n",
        "@app.route('/api/data')\n",
        "def get_data():\n",
        "    data = {'name': 'Alice', 'age': 30}\n",
        "    return jsonify(data)\n"
      ],
      "metadata": {
        "id": "5UOVhaN1yCvq"
      },
      "execution_count": null,
      "outputs": []
    },
    {
      "cell_type": "markdown",
      "source": [
        "# 2. Manual JSON response (not recommended unless needed)"
      ],
      "metadata": {
        "id": "b6QytfrwyFpH"
      }
    },
    {
      "cell_type": "code",
      "source": [
        "from flask import Response\n",
        "import json\n",
        "\n",
        "@app.route('/api/manual')\n",
        "def manual_json():\n",
        "    data = {'message': 'Hello'}\n",
        "    return Response(json.dumps(data), content_type='application/json')\n"
      ],
      "metadata": {
        "id": "f8xsTpLoyIK0"
      },
      "execution_count": null,
      "outputs": []
    },
    {
      "cell_type": "markdown",
      "source": [
        "# Optional: Return JSON with a custom status code"
      ],
      "metadata": {
        "id": "-OU_l5wOyLNs"
      }
    },
    {
      "cell_type": "code",
      "source": [
        "@app.route('/api/error')\n",
        "def error():\n",
        "    return jsonify({'error': 'Something went wrong'}), 400\n"
      ],
      "metadata": {
        "id": "fuogA8EKyNoZ"
      },
      "execution_count": null,
      "outputs": []
    },
    {
      "cell_type": "markdown",
      "source": [
        "# JSON from Query or Form Data"
      ],
      "metadata": {
        "id": "8cHoRywRyQko"
      }
    },
    {
      "cell_type": "code",
      "source": [
        "from flask import request\n",
        "\n",
        "@app.route('/api/echo', methods=['POST'])\n",
        "def echo():\n",
        "    content = request.json  # Parses JSON from request body\n",
        "    return jsonify(content)\n"
      ],
      "metadata": {
        "id": "lVqDmuIvyTo2"
      },
      "execution_count": null,
      "outputs": []
    },
    {
      "cell_type": "markdown",
      "source": [
        "# 15.How do you capture URL parameters in Flask?"
      ],
      "metadata": {
        "id": "KcONYVcyyZEn"
      }
    },
    {
      "cell_type": "markdown",
      "source": [
        "# In Flask, you capture URL parameters using angle brackets (< >) in your route definitions, and then receive them as function arguments."
      ],
      "metadata": {
        "id": "qya-NZA3yiKe"
      }
    },
    {
      "cell_type": "markdown",
      "source": [
        "# 1.Basic URL Parameter"
      ],
      "metadata": {
        "id": "BG54ppK6yn3j"
      }
    },
    {
      "cell_type": "code",
      "source": [
        "@app.route('/user/<username>')\n",
        "def show_user(username):\n",
        "    return f'Hello, {username}!'\n"
      ],
      "metadata": {
        "id": "Y_RkOaB0yq4X"
      },
      "execution_count": null,
      "outputs": []
    },
    {
      "cell_type": "markdown",
      "source": [
        "# 2.Specifying Parameter Types"
      ],
      "metadata": {
        "id": "0JHt9unvytWy"
      }
    },
    {
      "cell_type": "code",
      "source": [
        "@app.route('/post/<int:post_id>')\n",
        "def show_post(post_id):\n",
        "    return f'Post ID: {post_id}'\n"
      ],
      "metadata": {
        "id": "5RRnPDRVywT_"
      },
      "execution_count": null,
      "outputs": []
    },
    {
      "cell_type": "markdown",
      "source": [
        "# 3.Multiple Parameters"
      ],
      "metadata": {
        "id": "b5st231Ey4f6"
      }
    },
    {
      "cell_type": "code",
      "source": [
        "@app.route('/book/<string:author>/<int:year>')\n",
        "def book_info(author, year):\n",
        "    return f'{author} published a book in {year}.'\n"
      ],
      "metadata": {
        "id": "_4Gr7B5Ty73b"
      },
      "execution_count": null,
      "outputs": []
    },
    {
      "cell_type": "markdown",
      "source": [
        "# 4.Optional Query Parameters (Not in Path)"
      ],
      "metadata": {
        "id": "HOEliAc9y-js"
      }
    },
    {
      "cell_type": "code",
      "source": [
        "from flask import request\n",
        "\n",
        "@app.route('/search')\n",
        "def search():\n",
        "    q = request.args.get('q')  # \"flask\"\n",
        "    return f'Searching for: {q}'\n"
      ],
      "metadata": {
        "id": "Nlfq1q9DzBm2"
      },
      "execution_count": null,
      "outputs": []
    }
  ]
}